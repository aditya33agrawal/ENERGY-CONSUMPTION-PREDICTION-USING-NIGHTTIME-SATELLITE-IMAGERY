{
 "cells": [
  {
   "cell_type": "code",
   "execution_count": 1,
   "id": "0b673587-c3bf-4f1b-8596-8563bf11de5a",
   "metadata": {
    "tags": []
   },
   "outputs": [
    {
     "ename": "ModuleNotFoundError",
     "evalue": "No module named 'skimage'",
     "output_type": "error",
     "traceback": [
      "\u001b[0;31m---------------------------------------------------------------------------\u001b[0m",
      "\u001b[0;31mModuleNotFoundError\u001b[0m                       Traceback (most recent call last)",
      "Cell \u001b[0;32mIn[1], line 3\u001b[0m\n\u001b[1;32m      1\u001b[0m \u001b[38;5;28;01mimport\u001b[39;00m \u001b[38;5;21;01mos\u001b[39;00m\n\u001b[1;32m      2\u001b[0m \u001b[38;5;28;01mimport\u001b[39;00m \u001b[38;5;21;01mnumpy\u001b[39;00m \u001b[38;5;28;01mas\u001b[39;00m \u001b[38;5;21;01mnp\u001b[39;00m\n\u001b[0;32m----> 3\u001b[0m \u001b[38;5;28;01mfrom\u001b[39;00m \u001b[38;5;21;01mskimage\u001b[39;00m \u001b[38;5;28;01mimport\u001b[39;00m exposure, transform\n\u001b[1;32m      4\u001b[0m \u001b[38;5;28;01mfrom\u001b[39;00m \u001b[38;5;21;01mosgeo\u001b[39;00m \u001b[38;5;28;01mimport\u001b[39;00m gdal\n",
      "\u001b[0;31mModuleNotFoundError\u001b[0m: No module named 'skimage'"
     ]
    }
   ],
   "source": [
    "import os\n",
    "import numpy as np\n",
    "from skimage import exposure, transform\n",
    "from osgeo import gdal"
   ]
  },
  {
   "cell_type": "code",
   "execution_count": 2,
   "id": "70a7bca9-0885-4c5c-91e7-4e501fb5f070",
   "metadata": {
    "tags": []
   },
   "outputs": [],
   "source": [
    "# Define the path to the directory containing the images\n",
    "data_dir = '/Users/adityaagrawal/Desktop/DataSets/jaipur15-22'"
   ]
  },
  {
   "cell_type": "code",
   "execution_count": null,
   "id": "405ead80-6bfe-40c1-8571-9cb98e40ea71",
   "metadata": {},
   "outputs": [],
   "source": [
    "# Define the dimensions of the images\n",
    "img_height = 404\n",
    "img_width = 361"
   ]
  },
  {
   "cell_type": "code",
   "execution_count": null,
   "id": "03ec6506-1d3b-4408-a912-9c931634d820",
   "metadata": {},
   "outputs": [],
   "source": [
    "# Define the function for preprocessing a single image\n",
    "def preprocess_image(img_path):\n",
    "    # Load the image using gdal\n",
    "    img = gdal.Open(img_path).ReadAsArray()\n",
    "\n",
    "    # Rescale the pixel values to a range of [0, 1]\n",
    "    img = exposure.rescale_intensity(img, out_range=(0, 1))\n",
    "\n",
    "    # Resize the image to a fixed size\n",
    "    img = transform.resize(img, (img_height, img_width))\n",
    "\n",
    "    # Normalize the pixel values to have zero mean and unit variance\n",
    "    img = (img - np.mean(img)) / np.std(img)\n",
    "\n",
    "    return img"
   ]
  },
  {
   "cell_type": "code",
   "execution_count": null,
   "id": "d0fd1604-ae67-4721-907f-46e20a0d1ab7",
   "metadata": {},
   "outputs": [],
   "source": [
    "# Loop over all the images in the directory and preprocess them\n",
    "X = []\n",
    "for year in range(2015, 2023):\n",
    "    for month in range(1, 13):\n",
    "        img_name = f'rajasthan_nighttime_lights_{year}_{month}.tif'\n",
    "        img_path = os.path.join(data_dir, img_name)\n",
    "        if os.path.isfile(img_path):\n",
    "            img = preprocess_image(img_path)\n",
    "            X.append(img)\n"
   ]
  },
  {
   "cell_type": "code",
   "execution_count": null,
   "id": "b0827a3e-9460-402c-85dd-1043bb29a8a4",
   "metadata": {},
   "outputs": [],
   "source": [
    "# Convert the list of images to a numpy array\n",
    "X = np.array(X)\n",
    "\n",
    "# Print the shape of the preprocessed data\n",
    "print('Shape of preprocessed data:', X.shape)\n"
   ]
  }
 ],
 "metadata": {
  "kernelspec": {
   "display_name": "Python 3 (ipykernel)",
   "language": "python",
   "name": "python3"
  },
  "language_info": {
   "codemirror_mode": {
    "name": "ipython",
    "version": 3
   },
   "file_extension": ".py",
   "mimetype": "text/x-python",
   "name": "python",
   "nbconvert_exporter": "python",
   "pygments_lexer": "ipython3",
   "version": "3.8.16"
  }
 },
 "nbformat": 4,
 "nbformat_minor": 5
}
